{
 "cells": [
  {
   "cell_type": "code",
   "execution_count": 1,
   "metadata": {},
   "outputs": [],
   "source": [
    "import requests\n",
    "from bs4 import BeautifulSoup"
   ]
  },
  {
   "cell_type": "code",
   "execution_count": 2,
   "metadata": {},
   "outputs": [],
   "source": [
    "data = requests.get('https://www.bmkg.go.id/')"
   ]
  },
  {
   "cell_type": "code",
   "execution_count": 53,
   "metadata": {},
   "outputs": [
    {
     "name": "stdout",
     "output_type": "stream",
     "text": [
      "200\n"
     ]
    }
   ],
   "source": [
    "print(data.status_code)"
   ]
  },
  {
   "cell_type": "code",
   "execution_count": 12,
   "metadata": {},
   "outputs": [],
   "source": [
    "soup = BeautifulSoup(data.text, 'html.parser')"
   ]
  },
  {
   "cell_type": "code",
   "execution_count": 27,
   "metadata": {},
   "outputs": [],
   "source": [
    "dict_result = {}"
   ]
  },
  {
   "cell_type": "code",
   "execution_count": 28,
   "metadata": {},
   "outputs": [],
   "source": [
    "dict_result['Pukul'] = soup.find('span', {'class':'waktu'}).string.split(',')[0]\n",
    "dict_result['Tanggal'] = soup.find('span', {'class':'waktu'}).string.split(',')[1]"
   ]
  },
  {
   "cell_type": "code",
   "execution_count": 49,
   "metadata": {},
   "outputs": [
    {
     "data": {
      "text/plain": [
       "{'Pukul': '14 Agustus 2022',\n",
       " 'Tanggal': ' 09:47:47 WIB',\n",
       " 'Magnitudo': '5.9',\n",
       " 'Kedalaman': '10 km',\n",
       " 'Lintang': '1.86 LU ',\n",
       " 'Bujur': ' 126.44 BT',\n",
       " 'Lokasi': 'Pusat gempa berada di laut 139 km barat laut Halmahera Barat',\n",
       " 'Terdampak': 'Dirasakan (Skala MMI): II Minahasa, II - III Bitung, II - III Kab. Minahasa Tenggara, II - III Tomohon, II - III Manado, III Batang Dua'}"
      ]
     },
     "execution_count": 49,
     "metadata": {},
     "output_type": "execute_result"
    }
   ],
   "source": [
    "dict_result"
   ]
  },
  {
   "cell_type": "code",
   "execution_count": 48,
   "metadata": {},
   "outputs": [],
   "source": [
    "count = 0\n",
    "for i in soup.find('ul', {'class':'list-unstyled'}).findChildren('li'):\n",
    "    if count==1:\n",
    "        dict_result[\"Magnitudo\"] = i.text\n",
    "    elif count==2:\n",
    "        dict_result[\"Kedalaman\"] = i.text\n",
    "    elif count==3:\n",
    "        dict_result[\"Lintang\"] = i.text.split(\"-\")[0]\n",
    "        dict_result[\"Bujur\"] = i.text.split(\"-\")[1]\n",
    "    elif count==4:\n",
    "        dict_result[\"Lokasi\"] = i.text\n",
    "    elif count==5:\n",
    "        dict_result[\"Terdampak\"] = i.text\n",
    "    count += 1"
   ]
  },
  {
   "cell_type": "code",
   "execution_count": 43,
   "metadata": {},
   "outputs": [
    {
     "data": {
      "text/plain": [
       "[<li><span class=\"waktu\">14 Agustus 2022, 09:47:47 WIB</span></li>,\n",
       " <li><span class=\"ic magnitude\"></span>5.9</li>,\n",
       " <li><span class=\"ic kedalaman\"></span>10 km</li>,\n",
       " <li><span class=\"ic koordinat\"></span>1.86 LU - 126.44 BT</li>,\n",
       " <li><span class=\"ic lokasi\"></span>Pusat gempa berada di laut 139 km barat laut Halmahera Barat</li>,\n",
       " <li><span class=\"ic dirasakan\"></span>Dirasakan (Skala MMI): II Minahasa, II - III Bitung, II - III Kab. Minahasa Tenggara, II - III Tomohon, II - III Manado, III Batang Dua</li>,\n",
       " <li><a class=\"more\" href=\"gempabumi-dirasakan.html\">Selengkapnya â</a></li>]"
      ]
     },
     "execution_count": 43,
     "metadata": {},
     "output_type": "execute_result"
    }
   ],
   "source": [
    "soup.find('ul', {'class':'list-unstyled'}).findChildren('li')"
   ]
  }
 ],
 "metadata": {
  "kernelspec": {
   "display_name": "Python 3.9.7 ('base')",
   "language": "python",
   "name": "python3"
  },
  "language_info": {
   "codemirror_mode": {
    "name": "ipython",
    "version": 3
   },
   "file_extension": ".py",
   "mimetype": "text/x-python",
   "name": "python",
   "nbconvert_exporter": "python",
   "pygments_lexer": "ipython3",
   "version": "3.9.7"
  },
  "orig_nbformat": 4,
  "vscode": {
   "interpreter": {
    "hash": "827ef672cdfaa9c5c7b364eda2b4fd72f7fdb8221c52e737761053b3a748e5ca"
   }
  }
 },
 "nbformat": 4,
 "nbformat_minor": 2
}
